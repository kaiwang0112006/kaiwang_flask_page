{
 "cells": [
  {
   "cell_type": "code",
   "execution_count": 3,
   "id": "f11deafb",
   "metadata": {},
   "outputs": [],
   "source": [
    "import requests\n",
    "import base64"
   ]
  },
  {
   "cell_type": "code",
   "execution_count": 4,
   "id": "f22e7f1f",
   "metadata": {},
   "outputs": [],
   "source": [
    "imagedata = open(r\"D:\\onedrive\\work\\kw\\calorie\\python\\images.jpg\", 'rb').read()\n",
    "imagedata = str(base64.b64encode(imagedata), 'utf-8')"
   ]
  },
  {
   "cell_type": "code",
   "execution_count": 6,
   "id": "5d495702",
   "metadata": {},
   "outputs": [],
   "source": [
    "res = requests.post(\"http://127.0.0.1:8080/calorie_spark\", json = {\"image\":imagedata})"
   ]
  },
  {
   "cell_type": "code",
   "execution_count": 7,
   "id": "c52efb9b",
   "metadata": {},
   "outputs": [
    {
     "name": "stdout",
     "output_type": "stream",
     "text": [
      "{\"msg\": \"success\", \"status\": 0, \"prediction\": \"这是一道汉堡和薯条的图片。\\n\\n汉堡的营养分析：\\n- 面包：大约150卡路里，提供碳水化合物、纤维和一些蛋白质。\\n- 牛肉饼：200克牛肉饼大约含有240卡路里，提供高质量的蛋白质和脂肪，以及一些微量元素如铁和锌。\\n- 奶酪：根据种类和数量，每片奶酪（约25克）可能提供60至90卡路里，主要提供蛋白质、钙和脂肪。\\n- 生菜：提供微量的卡路里，富含维生素K、C和其他矿物质。\\n- 番茄酱：通常每茶匙提供1到2卡路里，提供糖分、钾和抗氧化剂。\\n\\n薯条的营养分析：\\n- 一份标准的炸薯条（约150克）大约含有365卡路里，提供碳水化合物、脂肪和一些蛋白质。\\n- 还可能含有钠和其他矿物质。\\n\\n总计，这道餐点提供了大约410至470卡路里的热量，以及丰富的蛋白质、脂肪和碳水化合物。然而，它的脂肪含量较高，尤其是饱和脂肪。此外，由于缺乏蔬菜和水果，这顿餐点的膳食纤维摄入量可能不足。\\n\\n作为一顿正餐，它可能不是最营养均衡的选择。改善建议包括增加蔬菜的比例，例如在汉堡中加入生菜或番茄；选择全麦面包代替白面包；减少或避免使用油炸食品；并考虑搭配一个沙拉或蒸煮的蔬菜来增加膳食纤维的摄入。\", \"time_used\": 9.328768253326416}\n"
     ]
    }
   ],
   "source": [
    "print(res.text)"
   ]
  },
  {
   "cell_type": "code",
   "execution_count": null,
   "id": "01823f1d",
   "metadata": {},
   "outputs": [],
   "source": []
  }
 ],
 "metadata": {
  "kernelspec": {
   "display_name": "Python 3 (ipykernel)",
   "language": "python",
   "name": "python3"
  },
  "language_info": {
   "codemirror_mode": {
    "name": "ipython",
    "version": 3
   },
   "file_extension": ".py",
   "mimetype": "text/x-python",
   "name": "python",
   "nbconvert_exporter": "python",
   "pygments_lexer": "ipython3",
   "version": "3.11.4"
  }
 },
 "nbformat": 4,
 "nbformat_minor": 5
}
