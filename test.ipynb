{
 "cells": [
  {
   "cell_type": "code",
   "execution_count": 3,
   "id": "5fa77842",
   "metadata": {},
   "outputs": [],
   "source": [
    "import requests\n",
    "import base64"
   ]
  },
  {
   "cell_type": "code",
   "execution_count": 4,
   "id": "bc6e1309",
   "metadata": {},
   "outputs": [],
   "source": [
    "imagedata = open(r\"D:\\onedrive\\work\\kw\\calorie\\python\\images.jpg\", 'rb').read()\n",
    "imagedata = str(base64.b64encode(imagedata), 'utf-8')"
   ]
  },
  {
   "cell_type": "code",
   "execution_count": null,
   "id": "e0b8d40b",
   "metadata": {},
   "outputs": [],
   "source": [
    "requests.post(\"http://127.0.0.1:8080/calorie_spark\", json = {\"image\":imagedata})"
   ]
  }
 ],
 "metadata": {
  "kernelspec": {
   "display_name": "Python 3 (ipykernel)",
   "language": "python",
   "name": "python3"
  },
  "language_info": {
   "codemirror_mode": {
    "name": "ipython",
    "version": 3
   },
   "file_extension": ".py",
   "mimetype": "text/x-python",
   "name": "python",
   "nbconvert_exporter": "python",
   "pygments_lexer": "ipython3",
   "version": "3.11.4"
  }
 },
 "nbformat": 4,
 "nbformat_minor": 5
}
